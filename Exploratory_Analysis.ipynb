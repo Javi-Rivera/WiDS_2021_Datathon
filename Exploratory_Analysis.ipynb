{
 "cells": [
  {
   "cell_type": "markdown",
   "metadata": {},
   "source": [
    "# WiDS Datathon\n",
    "\n",
    "## Downloading the data"
   ]
  },
  {
   "cell_type": "code",
   "execution_count": 1,
   "metadata": {},
   "outputs": [
    {
     "name": "stdout",
     "output_type": "stream",
     "text": [
      "Collecting kaggle\n",
      "  Downloading kaggle-1.5.10.tar.gz (59 kB)\n",
      "Requirement already satisfied: six>=1.10 in d:\\anaconda\\lib\\site-packages (from kaggle) (1.15.0)\n",
      "Requirement already satisfied: certifi in d:\\anaconda\\lib\\site-packages (from kaggle) (2020.6.20)\n",
      "Requirement already satisfied: python-dateutil in d:\\anaconda\\lib\\site-packages (from kaggle) (2.8.1)\n",
      "Requirement already satisfied: requests in d:\\anaconda\\lib\\site-packages (from kaggle) (2.24.0)\n",
      "Requirement already satisfied: tqdm in d:\\anaconda\\lib\\site-packages (from kaggle) (4.50.2)\n",
      "Collecting python-slugify\n",
      "  Downloading python-slugify-4.0.1.tar.gz (11 kB)\n",
      "Requirement already satisfied: urllib3 in d:\\anaconda\\lib\\site-packages (from kaggle) (1.25.11)\n",
      "Requirement already satisfied: idna<3,>=2.5 in d:\\anaconda\\lib\\site-packages (from requests->kaggle) (2.10)\n",
      "Requirement already satisfied: chardet<4,>=3.0.2 in d:\\anaconda\\lib\\site-packages (from requests->kaggle) (3.0.4)\n",
      "Collecting text-unidecode>=1.3\n",
      "  Downloading text_unidecode-1.3-py2.py3-none-any.whl (78 kB)\n",
      "Building wheels for collected packages: kaggle, python-slugify\n",
      "  Building wheel for kaggle (setup.py): started\n",
      "  Building wheel for kaggle (setup.py): finished with status 'done'\n",
      "  Created wheel for kaggle: filename=kaggle-1.5.10-py3-none-any.whl size=73274 sha256=db4d59880363ddb882a9009d6d4c9986371c5cff9fc6e127b341f2ee6cffc96f\n",
      "  Stored in directory: c:\\users\\gjriv\\appdata\\local\\pip\\cache\\wheels\\a6\\c1\\5e\\2b235e19b52c15ad35812881f8de4461399907e219c03bf7b5\n",
      "  Building wheel for python-slugify (setup.py): started\n",
      "  Building wheel for python-slugify (setup.py): finished with status 'done'\n",
      "  Created wheel for python-slugify: filename=python_slugify-4.0.1-py2.py3-none-any.whl size=6772 sha256=9054f577aa4bfe7fa32c8803382093e02e3d280f258bc999c88df3d6e98a6da9\n",
      "  Stored in directory: c:\\users\\gjriv\\appdata\\local\\pip\\cache\\wheels\\91\\4d\\4f\\e740a68c215791688c46c4d6251770a570e8dfea91af1acb5c\n",
      "Successfully built kaggle python-slugify\n",
      "Installing collected packages: text-unidecode, python-slugify, kaggle\n",
      "Successfully installed kaggle-1.5.10 python-slugify-4.0.1 text-unidecode-1.3\n"
     ]
    }
   ],
   "source": [
    "# Installing Kaggle API\n",
    "\n",
    "!pip install kaggle"
   ]
  },
  {
   "cell_type": "code",
   "execution_count": 2,
   "metadata": {},
   "outputs": [
    {
     "name": "stdout",
     "output_type": "stream",
     "text": [
      "Downloading widsdatathon2021.zip to D:\\Github\\WiDS_2021_Datathon\n",
      "\n"
     ]
    },
    {
     "name": "stderr",
     "output_type": "stream",
     "text": [
      "\n",
      "  0%|          | 0.00/23.1M [00:00<?, ?B/s]\n",
      "  4%|▍         | 1.00M/23.1M [00:00<00:10, 2.18MB/s]\n",
      "  9%|▊         | 2.00M/23.1M [00:00<00:08, 2.76MB/s]\n",
      " 13%|█▎        | 3.00M/23.1M [00:00<00:06, 3.37MB/s]\n",
      " 17%|█▋        | 4.00M/23.1M [00:00<00:05, 3.83MB/s]\n",
      " 22%|██▏       | 5.00M/23.1M [00:01<00:04, 4.08MB/s]\n",
      " 26%|██▌       | 6.00M/23.1M [00:01<00:04, 4.39MB/s]\n",
      " 30%|███       | 7.00M/23.1M [00:01<00:03, 4.36MB/s]\n",
      " 35%|███▍      | 8.00M/23.1M [00:01<00:03, 4.68MB/s]\n",
      " 39%|███▉      | 9.00M/23.1M [00:02<00:03, 4.85MB/s]\n",
      " 43%|████▎     | 10.0M/23.1M [00:02<00:02, 4.96MB/s]\n",
      " 48%|████▊     | 11.0M/23.1M [00:02<00:02, 4.96MB/s]\n",
      " 52%|█████▏    | 12.0M/23.1M [00:02<00:02, 5.05MB/s]\n",
      " 56%|█████▌    | 13.0M/23.1M [00:02<00:02, 4.75MB/s]\n",
      " 61%|██████    | 14.0M/23.1M [00:03<00:01, 4.96MB/s]\n",
      " 65%|██████▍   | 15.0M/23.1M [00:03<00:01, 5.18MB/s]\n",
      " 69%|██████▉   | 16.0M/23.1M [00:03<00:01, 5.43MB/s]\n",
      " 74%|███████▎  | 17.0M/23.1M [00:03<00:01, 5.62MB/s]\n",
      " 78%|███████▊  | 18.0M/23.1M [00:03<00:00, 5.64MB/s]\n",
      " 82%|████████▏ | 19.0M/23.1M [00:03<00:00, 6.02MB/s]\n",
      " 87%|████████▋ | 20.0M/23.1M [00:04<00:00, 5.63MB/s]\n",
      " 91%|█████████ | 21.0M/23.1M [00:04<00:00, 6.27MB/s]\n",
      " 95%|█████████▌| 22.0M/23.1M [00:04<00:00, 5.85MB/s]\n",
      "100%|█████████▉| 23.0M/23.1M [00:04<00:00, 6.04MB/s]\n",
      "100%|██████████| 23.1M/23.1M [00:04<00:00, 5.23MB/s]\n"
     ]
    }
   ],
   "source": [
    "#Downloading the Dataset\n",
    "\n",
    "!kaggle competitions download -c widsdatathon2021"
   ]
  },
  {
   "cell_type": "code",
   "execution_count": 8,
   "metadata": {},
   "outputs": [],
   "source": [
    "# Unzipping the files\n",
    "\n",
    "import zipfile\n",
    "\n",
    "with zipfile.ZipFile(\"widsdatathon2021.zip\", 'r') as zip_ref:\n",
    "    zip_ref.extractall(\"data\")"
   ]
  },
  {
   "cell_type": "code",
   "execution_count": 9,
   "metadata": {},
   "outputs": [],
   "source": []
  }
 ],
 "metadata": {
  "kernelspec": {
   "display_name": "Python 3",
   "language": "python",
   "name": "python3"
  },
  "language_info": {
   "codemirror_mode": {
    "name": "ipython",
    "version": 3
   },
   "file_extension": ".py",
   "mimetype": "text/x-python",
   "name": "python",
   "nbconvert_exporter": "python",
   "pygments_lexer": "ipython3",
   "version": "3.8.5"
  }
 },
 "nbformat": 4,
 "nbformat_minor": 4
}
